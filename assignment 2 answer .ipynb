{
 "cells": [
  {
   "cell_type": "code",
   "execution_count": null,
   "id": "a0824ad7",
   "metadata": {},
   "outputs": [],
   "source": [
    "#1.What are the two values of the Boolean data type? How do you write them?\n",
    "\n",
    "\n",
    "\n",
    "ans = boolean are the two types \n",
    "1 = True\n",
    "2 = False \n",
    "we write boolen values by using Capital latters T or F and the other words are lowwer "
   ]
  },
  {
   "cell_type": "code",
   "execution_count": null,
   "id": "d7575c79",
   "metadata": {},
   "outputs": [],
   "source": [
    "#2. What are the three different types of Boolean operators?\n",
    "\n",
    "\n",
    "\n",
    "ans  = the three different types of boolean operators are \n",
    "1 = and\n",
    "2 = or \n",
    "3 = not\n"
   ]
  },
  {
   "cell_type": "code",
   "execution_count": null,
   "id": "1de8e6a5",
   "metadata": {},
   "outputs": [],
   "source": [
    "#3. Make a list of each Boolean operator's truth tables (i.e. every possible combination of Boolean\n",
    "#values for the operator and what it evaluate ).\n",
    "\n",
    "\n",
    "ans = \n",
    "True and True is True \n",
    "True and False is False \n",
    "False and True is False \n",
    "False and False is False \n",
    "Truth Table for AND\n",
    "A B output\n",
    "0 0 0\n",
    "0 1 0\n",
    "1 0 0\n",
    "1 1 1\n",
    "\n",
    "\n",
    "\n",
    "\n",
    "\n",
    "True or True  is True \n",
    "True or False is True \n",
    "False or True is True\n",
    "False or False is False \n",
    "Truth Table for OR\n",
    "A B output\n",
    "0 0 0\n",
    "0 1 1\n",
    "1 0 1\n",
    "1 1 1\n",
    "\n",
    "\n",
    "\n",
    "\n",
    "not True is False \n",
    "not False is True \n",
    "Truth Table for NOT\n",
    "A output\n",
    "0 1\n",
    "1 0\n",
    "\n",
    "\n",
    "\n",
    "\n",
    "\n"
   ]
  },
  {
   "cell_type": "code",
   "execution_count": null,
   "id": "9156e5f1",
   "metadata": {},
   "outputs": [],
   "source": [
    "#4. What are the values of the following expressions?\n",
    "(5 > 4) and (3 == 5)\n",
    "not (5 > 4)\n",
    "(5 > 4) or (3 == 5)\n",
    "not ((5 > 4) or (3 == 5))\n",
    "(True and True) and (True == False)\n",
    "(not False) or (not True)"
   ]
  },
  {
   "cell_type": "code",
   "execution_count": 4,
   "id": "747a6560",
   "metadata": {},
   "outputs": [
    {
     "name": "stdout",
     "output_type": "stream",
     "text": [
      "False\n"
     ]
    }
   ],
   "source": [
    "print((5 > 4) and (3 == 5))"
   ]
  },
  {
   "cell_type": "code",
   "execution_count": 6,
   "id": "01303dda",
   "metadata": {},
   "outputs": [
    {
     "name": "stdout",
     "output_type": "stream",
     "text": [
      "False\n"
     ]
    }
   ],
   "source": [
    "print(not(5>4))"
   ]
  },
  {
   "cell_type": "code",
   "execution_count": 7,
   "id": "892a2d11",
   "metadata": {},
   "outputs": [
    {
     "name": "stdout",
     "output_type": "stream",
     "text": [
      "True\n"
     ]
    }
   ],
   "source": [
    "print((5>4) or ( 3==5))"
   ]
  },
  {
   "cell_type": "code",
   "execution_count": 8,
   "id": "0da8d0a1",
   "metadata": {},
   "outputs": [
    {
     "name": "stdout",
     "output_type": "stream",
     "text": [
      "False\n"
     ]
    }
   ],
   "source": [
    "print(not ((5>4) or (3==5)))"
   ]
  },
  {
   "cell_type": "code",
   "execution_count": 9,
   "id": "2f434e41",
   "metadata": {},
   "outputs": [
    {
     "name": "stdout",
     "output_type": "stream",
     "text": [
      "False\n"
     ]
    }
   ],
   "source": [
    "print((True and True) and (True == False))"
   ]
  },
  {
   "cell_type": "code",
   "execution_count": 10,
   "id": "9f6abe5a",
   "metadata": {},
   "outputs": [
    {
     "name": "stdout",
     "output_type": "stream",
     "text": [
      "True\n"
     ]
    }
   ],
   "source": [
    "print((not False) or (not True))"
   ]
  },
  {
   "cell_type": "code",
   "execution_count": null,
   "id": "f77e599c",
   "metadata": {},
   "outputs": [],
   "source": [
    "#5. What are the six comparison operators?\n",
    " \n",
    "ans = <,>,<=,>=,==,!="
   ]
  },
  {
   "cell_type": "code",
   "execution_count": null,
   "id": "b8bd9026",
   "metadata": {},
   "outputs": [],
   "source": [
    "#6. How do you tell the difference between the equal to and \n",
    "assignment operators?Describe a condition and when you would use one.\n",
    "\n",
    "ans = \n",
    " = is a assignment operators that stores a value in a variable and  \n",
    "== is equal to operator that compares two values "
   ]
  },
  {
   "cell_type": "code",
   "execution_count": 20,
   "id": "809ac99a",
   "metadata": {
    "scrolled": true
   },
   "outputs": [
    {
     "name": "stdout",
     "output_type": "stream",
     "text": [
      " its not \n"
     ]
    }
   ],
   "source": [
    "\n",
    "if 2 == 3 :\n",
    "    print(\"its equal to each other\")\n",
    "else:\n",
    "    print(\" its not \")"
   ]
  },
  {
   "cell_type": "code",
   "execution_count": 21,
   "id": "98fa0d8b",
   "metadata": {},
   "outputs": [
    {
     "name": "stdout",
     "output_type": "stream",
     "text": [
      "5\n"
     ]
    }
   ],
   "source": [
    "a = 5 \n",
    "print(a)"
   ]
  },
  {
   "cell_type": "code",
   "execution_count": null,
   "id": "895f90c2",
   "metadata": {},
   "outputs": [],
   "source": [
    "#7. Identify the three blocks in this code"
   ]
  },
  {
   "cell_type": "code",
   "execution_count": 25,
   "id": "6bf4ddf6",
   "metadata": {},
   "outputs": [
    {
     "name": "stdout",
     "output_type": "stream",
     "text": [
      "ham\n",
      "spam\n",
      "spam\n"
     ]
    }
   ],
   "source": [
    "spam = 0\n",
    "if spam == 10:\n",
    "    print('eggs')  #block\n",
    "if spam > 5:\n",
    "    print('bacon') #block\n",
    "else:\n",
    "    print('ham') #block\n",
    "    print('spam')\n",
    "    print('spam')"
   ]
  },
  {
   "cell_type": "code",
   "execution_count": null,
   "id": "567da578",
   "metadata": {},
   "outputs": [],
   "source": [
    "'''Q8. Write code that prints Hello if 1 is stored in spam, \n",
    "prints Howdy if 2 is stored in spam,\n",
    "and prints Greetings! if anything else is stored in spam.'''"
   ]
  },
  {
   "cell_type": "code",
   "execution_count": 30,
   "id": "699d96e5",
   "metadata": {},
   "outputs": [
    {
     "name": "stdout",
     "output_type": "stream",
     "text": [
      "enter your no1\n",
      "Hello\n"
     ]
    }
   ],
   "source": [
    "spam = int(input(\"enter your no\"))\n",
    "if spam == 1:\n",
    "    print(\"Hello\")\n",
    "elif spam == 2 :\n",
    "    print(\"Howdy\")\n",
    "else:\n",
    "    print(\"Greetings\")"
   ]
  },
  {
   "cell_type": "code",
   "execution_count": null,
   "id": "30ede2b1",
   "metadata": {},
   "outputs": [],
   "source": [
    "#9.If your programme is stuck in an endless loop, what keys you’ll press?\n",
    "\n",
    "ans= if our programm is stuck in endless loop we press ctrl+C"
   ]
  },
  {
   "cell_type": "code",
   "execution_count": null,
   "id": "d5d8b432",
   "metadata": {},
   "outputs": [],
   "source": [
    "#Q10. How can you tell the difference between break and continue?\n",
    "ans = both are jump statements but the main diffrence is break is used\n",
    "for immediate terminate of loop \n",
    "and continue terminate the current iteration and resumes the control to \n",
    "the next iteration of the loop"
   ]
  },
  {
   "cell_type": "code",
   "execution_count": 34,
   "id": "fbbfa096",
   "metadata": {},
   "outputs": [
    {
     "name": "stdout",
     "output_type": "stream",
     "text": [
      "0\n",
      "1\n",
      "2\n",
      "breaked\n"
     ]
    }
   ],
   "source": [
    "#for eg \n",
    "for i in range(5):\n",
    "    if (i == 3) :\n",
    "        break\n",
    "    print(i)\n",
    "print('breaked')"
   ]
  },
  {
   "cell_type": "code",
   "execution_count": 35,
   "id": "48546eec",
   "metadata": {},
   "outputs": [
    {
     "name": "stdout",
     "output_type": "stream",
     "text": [
      "0\n",
      "1\n",
      "3\n",
      "4\n"
     ]
    }
   ],
   "source": [
    "#for eg\n",
    "for i in range(5):\n",
    "    if (i == 2):\n",
    "        continue\n",
    "    print(i)"
   ]
  },
  {
   "cell_type": "code",
   "execution_count": null,
   "id": "0b3748fd",
   "metadata": {},
   "outputs": [],
   "source": [
    "# 11. In a for loop, what is the difference between \n",
    "# range(10), range(0, 10), and range(0, 10, 1)?\n",
    "\n",
    "ans= The range(10) call ranges from 0 up to (but not including) 10,\n",
    "range(0, 10) tells the loop to start at 0, and\n",
    "range(0, 10, 1 ) tells the loop to increase the variable by \n",
    "1 on each iteration.\n"
   ]
  },
  {
   "cell_type": "code",
   "execution_count": null,
   "id": "d1255e8a",
   "metadata": {},
   "outputs": [],
   "source": [
    "# Q12. Write a short program that prints \n",
    "# the numbers 1 to 10 using a for loop. Then write an\n",
    "# equivalent program that prints the numbers 1 to 10 using a while loop.\n",
    "\n"
   ]
  },
  {
   "cell_type": "code",
   "execution_count": 36,
   "id": "ae2e202f",
   "metadata": {},
   "outputs": [
    {
     "name": "stdout",
     "output_type": "stream",
     "text": [
      "1\n",
      "2\n",
      "3\n",
      "4\n",
      "5\n",
      "6\n",
      "7\n",
      "8\n",
      "9\n",
      "10\n"
     ]
    }
   ],
   "source": [
    "for i in range(1,11):\n",
    "    print(i)\n",
    "    "
   ]
  },
  {
   "cell_type": "code",
   "execution_count": 1,
   "id": "05c25c27",
   "metadata": {},
   "outputs": [
    {
     "name": "stdout",
     "output_type": "stream",
     "text": [
      "1\n",
      "2\n",
      "3\n",
      "4\n",
      "5\n",
      "6\n",
      "7\n",
      "8\n",
      "9\n",
      "10\n"
     ]
    }
   ],
   "source": [
    "a = 1\n",
    "while a<=10:\n",
    "    print(a)\n",
    "    \n",
    "    a+=1"
   ]
  },
  {
   "cell_type": "code",
   "execution_count": null,
   "id": "5fa1e1b9",
   "metadata": {},
   "outputs": [],
   "source": [
    "# Q13. If you had a function named bacon() inside a module named spam,\n",
    "# how would you call it after importing spam?\n",
    "\n",
    "\n",
    "ans = spam.bacon()"
   ]
  },
  {
   "cell_type": "code",
   "execution_count": null,
   "id": "0139c42f",
   "metadata": {},
   "outputs": [],
   "source": []
  }
 ],
 "metadata": {
  "kernelspec": {
   "display_name": "Python 3 (ipykernel)",
   "language": "python",
   "name": "python3"
  },
  "language_info": {
   "codemirror_mode": {
    "name": "ipython",
    "version": 3
   },
   "file_extension": ".py",
   "mimetype": "text/x-python",
   "name": "python",
   "nbconvert_exporter": "python",
   "pygments_lexer": "ipython3",
   "version": "3.9.12"
  }
 },
 "nbformat": 4,
 "nbformat_minor": 5
}
